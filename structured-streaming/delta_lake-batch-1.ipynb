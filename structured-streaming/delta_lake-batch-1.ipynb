{
 "cells": [
  {
   "cell_type": "code",
   "execution_count": 1,
   "metadata": {},
   "outputs": [],
   "source": [
    "from pyspark.sql.functions import *\n",
    "import pyspark\n",
    "\n",
    "spark = pyspark.sql.SparkSession.builder.appName(\"Product_Price_Tracking\") \\\n",
    "    .config(\"spark.jars.packages\", \"io.delta:delta-core_2.11:0.6.1,org.apache.hadoop:hadoop-aws:2.7.3\") \\\n",
    "    .config(\"spark.sql.extensions\", \"io.delta.sql.DeltaSparkSessionExtension\") \\\n",
    "    .config(\"spark.sql.catalog.spark_catalog\", \"org.apache.spark.sql.delta.catalog.DeltaCatalog\") \\\n",
    "    .getOrCreate()\n",
    "\n",
    "from delta.tables import *"
   ]
  },
  {
   "cell_type": "code",
   "execution_count": 2,
   "metadata": {},
   "outputs": [],
   "source": [
    "import configparser\n",
    "import os\n",
    "config = configparser.ConfigParser()\n",
    "config.read(os.path.expanduser(\"~/.aws/credentials\"))\n",
    "aws_section = 'default'\n",
    "\n",
    "_AWS_KEY_ID = config.get(aws_section, \"aws_access_key_id\")\n",
    "_AWS_SECRET_KEY = config.get(aws_section, \"aws_secret_access_key\")\n",
    "\n",
    "spark.sparkContext._conf.setAll([('spark.delta.logStore.class','org.apache.spark.sql.delta.storage.S3SingleDriverLogStore')])\n",
    "spark._jsc.hadoopConfiguration().set(\"fs.s3a.awsAccessKeyId\", _AWS_KEY_ID)\n",
    "spark._jsc.hadoopConfiguration().set(\"fs.s3a.awsSecretAccessKey\", _AWS_SECRET_KEY)\n",
    "spark._jsc.hadoopConfiguration().set(\"fs.s3a.impl\", \"org.apache.hadoop.fs.s3native.NativeS3FileSystem\")"
   ]
  },
  {
   "cell_type": "code",
   "execution_count": 3,
   "metadata": {},
   "outputs": [
    {
     "output_type": "stream",
     "name": "stdout",
     "text": [
      "+---------+-------------------+-----+\n|ProductID|               Date|Price|\n+---------+-------------------+-----+\n|      200|2020-08-20 00:00:00| 20.5|\n|      210|2020-08-20 00:00:00| 45.0|\n|      220|2020-08-20 00:00:00|34.56|\n|      230|2020-08-20 00:00:00|23.67|\n|      240|2020-08-20 00:00:00|89.76|\n+---------+-------------------+-----+\n\n"
     ]
    }
   ],
   "source": [
    "df_productsaug20 = spark.read.csv('s3a://odc-raw-data-ut-bucket/Arthur/delta_lake/raw/products_aug20.csv', header=True, inferSchema=True)\n",
    "df_productsaug20.show()"
   ]
  },
  {
   "cell_type": "code",
   "execution_count": 4,
   "metadata": {},
   "outputs": [],
   "source": [
    "df_productsaug20.write.format(\"delta\").option(\"path\", \"s3a://odc-raw-data-ut-bucket/Arthur/delta_lake/products\").saveAsTable(\"products\")"
   ]
  },
  {
   "cell_type": "code",
   "execution_count": 5,
   "metadata": {},
   "outputs": [
    {
     "output_type": "stream",
     "name": "stdout",
     "text": [
      "+---------+-------------------+-----+\n|ProductID|               Date|Price|\n+---------+-------------------+-----+\n|      200|2020-08-20 00:00:00| 20.5|\n|      210|2020-08-20 00:00:00| 45.0|\n|      220|2020-08-20 00:00:00|34.56|\n|      230|2020-08-20 00:00:00|23.67|\n|      240|2020-08-20 00:00:00|89.76|\n+---------+-------------------+-----+\n\n"
     ]
    }
   ],
   "source": [
    "spark.sql(\"SELECT * FROM products\").show()"
   ]
  },
  {
   "cell_type": "code",
   "execution_count": 6,
   "metadata": {},
   "outputs": [],
   "source": [
    "deltaTable = DeltaTable.forPath(spark, \"s3a://odc-raw-data-ut-bucket/Arthur/delta_lake/products\")"
   ]
  },
  {
   "cell_type": "code",
   "execution_count": 7,
   "metadata": {},
   "outputs": [],
   "source": [
    "deltaTable.update(\"ProductID = '200'\", { \"Price\": \"'48.00'\" } )"
   ]
  },
  {
   "cell_type": "code",
   "execution_count": 8,
   "metadata": {},
   "outputs": [
    {
     "output_type": "stream",
     "name": "stdout",
     "text": [
      "+---------+-------------------+-----+\n|ProductID|               Date|Price|\n+---------+-------------------+-----+\n|      200|2020-08-20 00:00:00| 48.0|\n|      210|2020-08-20 00:00:00| 45.0|\n|      220|2020-08-20 00:00:00|34.56|\n|      230|2020-08-20 00:00:00|23.67|\n|      240|2020-08-20 00:00:00|89.76|\n+---------+-------------------+-----+\n\n"
     ]
    }
   ],
   "source": [
    "df = spark.read.format(\"delta\").option(\"versionAsOf\", 1).load(\"s3a://odc-raw-data-ut-bucket/Arthur/delta_lake/products\")\n",
    "df.show()"
   ]
  },
  {
   "cell_type": "code",
   "execution_count": 9,
   "metadata": {},
   "outputs": [
    {
     "output_type": "stream",
     "name": "stdout",
     "text": [
      "+---------+-------------------+-----+\n|ProductID|               Date|Price|\n+---------+-------------------+-----+\n|      200|2020-08-20 00:00:00| 20.5|\n|      210|2020-08-20 00:00:00| 45.0|\n|      220|2020-08-20 00:00:00|34.56|\n|      230|2020-08-20 00:00:00|23.67|\n|      240|2020-08-20 00:00:00|89.76|\n+---------+-------------------+-----+\n\n"
     ]
    }
   ],
   "source": [
    "df = spark.read.format(\"delta\").option(\"versionAsOf\", 0).load(\"s3a://odc-raw-data-ut-bucket/Arthur/delta_lake/products\")\n",
    "df.show()"
   ]
  },
  {
   "cell_type": "code",
   "execution_count": 10,
   "metadata": {},
   "outputs": [
    {
     "output_type": "stream",
     "name": "stdout",
     "text": [
      "+---------+-------------------+-----+\n|ProductID|               Date|Price|\n+---------+-------------------+-----+\n|      200|2020-08-20 00:00:00| 48.0|\n|      220|2020-08-20 00:00:00|34.56|\n|      230|2020-08-20 00:00:00|23.67|\n|      240|2020-08-20 00:00:00|89.76|\n+---------+-------------------+-----+\n\n"
     ]
    }
   ],
   "source": [
    "deltaTable.delete(\"ProductID = 210\") \n",
    "df = spark.read.format(\"delta\").option(\"versionAsOf\", 2).load(\"s3a://odc-raw-data-ut-bucket/Arthur/delta_lake/products\")\n",
    "df.show()"
   ]
  },
  {
   "cell_type": "code",
   "execution_count": 11,
   "metadata": {},
   "outputs": [
    {
     "output_type": "stream",
     "name": "stdout",
     "text": [
      "+---------+-------------------+-----+\n|ProductID|               Date|Price|\n+---------+-------------------+-----+\n|      200|2020-08-21 00:00:00| 25.5|\n|      210|2020-08-21 00:00:00| 46.0|\n|      220|2020-08-21 00:00:00|34.56|\n|      230|2020-08-21 00:00:00|23.67|\n|      240|2020-08-21 00:00:00|90.82|\n|      250|2020-08-21 00:00:00|89.76|\n+---------+-------------------+-----+\n\n"
     ]
    }
   ],
   "source": [
    "df_productsaug21 = spark.read.csv('s3a://odc-raw-data-ut-bucket/Arthur/delta_lake/raw/products_aug21.csv', header=True, inferSchema=True)\n",
    "df_productsaug21.show()"
   ]
  },
  {
   "cell_type": "code",
   "execution_count": 12,
   "metadata": {},
   "outputs": [],
   "source": [
    "deltaTable.alias(\"products\").merge(\n",
    "    df_productsaug21.alias(\"products_new\"),\n",
    "                    \"products.ProductID = products_new.ProductID\") \\\n",
    "                    .whenMatchedUpdate(set = { \"Price\" : \"products_new.Price\" } ) \\\n",
    "                    .whenNotMatchedInsert(values =\n",
    "                       {\n",
    "                        \"ProductID\": \"products_new.ProductID\",\n",
    "                        \"Date\": \"products_new.Date\",\n",
    "                        \"Price\": \"products_new.Price\"\n",
    "                       }\n",
    "                     ).execute()"
   ]
  },
  {
   "cell_type": "code",
   "execution_count": 13,
   "metadata": {},
   "outputs": [
    {
     "output_type": "stream",
     "name": "stdout",
     "text": [
      "+---------+-------------------+-----+\n|ProductID|               Date|Price|\n+---------+-------------------+-----+\n|      200|2020-08-20 00:00:00| 25.5|\n|      210|2020-08-21 00:00:00| 46.0|\n|      220|2020-08-20 00:00:00|34.56|\n|      230|2020-08-20 00:00:00|23.67|\n|      240|2020-08-20 00:00:00|90.82|\n|      250|2020-08-21 00:00:00|89.76|\n+---------+-------------------+-----+\n\n"
     ]
    }
   ],
   "source": [
    "df = spark.read.format(\"delta\").option(\"versionAsOf\", 3).load(\"s3a://odc-raw-data-ut-bucket/Arthur/delta_lake/products\")\n",
    "df.sort('ProductID').show()"
   ]
  },
  {
   "cell_type": "code",
   "execution_count": 14,
   "metadata": {},
   "outputs": [
    {
     "output_type": "stream",
     "name": "stdout",
     "text": [
      "+---------+-------------------+-----+\n|ProductID|               Date|Price|\n+---------+-------------------+-----+\n|      200|2020-08-20 00:00:00| 25.5|\n|      210|2020-08-21 00:00:00| 46.0|\n|      220|2020-08-20 00:00:00|34.56|\n|      230|2020-08-20 00:00:00|23.67|\n|      240|2020-08-20 00:00:00|90.82|\n|      250|2020-08-21 00:00:00|89.76|\n+---------+-------------------+-----+\n\n"
     ]
    }
   ],
   "source": [
    "spark.table(\"products\").sort('ProductID').show()"
   ]
  },
  {
   "cell_type": "code",
   "execution_count": 15,
   "metadata": {},
   "outputs": [],
   "source": [
    "deltaTable.update(\"ProductID = '200'\", { \"Price\": \"'35.5'\" } )\n",
    "deltaTable.update(\"ProductID = '210'\", { \"Price\": \"'56.00'\" } )\n",
    "deltaTable.update(\"ProductID = '220'\", { \"Price\": \"'44.56'\" } )\n",
    "deltaTable.update(\"ProductID = '230'\", { \"Price\": \"'33.67'\" } )\n",
    "deltaTable.update(\"ProductID = '240'\", { \"Price\": \"'100.82'\" } )\n",
    "deltaTable.update(\"ProductID = '250'\", { \"Price\": \"'99.76'\" } )\n",
    "deltaTable.update(\"ProductID = '260'\", { \"Price\": \"'64.55'\" } )\n",
    "deltaTable.update(\"ProductID = '270'\", { \"Price\": \"'106.32'\" } )\n",
    "deltaTable.update(\"ProductID = '280'\", { \"Price\": \"'54.78'\" } )"
   ]
  },
  {
   "cell_type": "code",
   "execution_count": 16,
   "metadata": {},
   "outputs": [
    {
     "output_type": "execute_result",
     "data": {
      "text/plain": [
       "6"
      ]
     },
     "metadata": {},
     "execution_count": 16
    }
   ],
   "source": [
    "s3_products_path = \"s3a://odc-raw-data-ut-bucket/Arthur/delta_lake/products\"\n",
    "df = spark.read.format(\"delta\").load(s3_products_path)\n",
    "\n",
    "# df.show(df.count(), False)\n",
    "df.count()\n",
    "# df.filter(df.ProductID==\"1\").show()\n"
   ]
  }
 ],
 "metadata": {
  "kernelspec": {
   "display_name": "Python 3",
   "language": "python",
   "name": "python3"
  },
  "language_info": {
   "codemirror_mode": {
    "name": "ipython",
    "version": 3
   },
   "file_extension": ".py",
   "mimetype": "text/x-python",
   "name": "python",
   "nbconvert_exporter": "python",
   "pygments_lexer": "ipython3",
   "version": "3.6.11-final"
  }
 },
 "nbformat": 4,
 "nbformat_minor": 4
}